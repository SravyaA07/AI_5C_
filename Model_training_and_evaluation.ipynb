{
  "nbformat": 4,
  "nbformat_minor": 0,
  "metadata": {
    "colab": {
      "provenance": []
    },
    "kernelspec": {
      "name": "python3",
      "display_name": "Python 3"
    },
    "language_info": {
      "name": "python"
    }
  },
  "cells": [
    {
      "cell_type": "markdown",
      "source": [
        "DISC SCORE METRIC"
      ],
      "metadata": {
        "id": "tEwVk9eDRigi"
      }
    },
    {
      "cell_type": "code",
      "execution_count": null,
      "metadata": {
        "id": "YxL_9_nORWZ7"
      },
      "outputs": [],
      "source": [
        "import tensorflow.keras.backend as K\n",
        "\n",
        "def dice_coefficient(y_true, y_pred):\n",
        "    smooth = 1.0\n",
        "    y_true_f = K.flatten(y_true)\n",
        "    y_pred_f = K.flatten(y_pred)\n",
        "    intersection = K.sum(y_true_f * y_pred_f)\n",
        "    return (2. * intersection + smooth) / (K.sum(y_true_f) + K.sum(y_pred_f) + smooth)\n",
        "\n",
        "def dice_loss(y_true, y_pred):\n",
        "    return 1 - dice_coefficient(y_true, y_pred)\n"
      ]
    },
    {
      "cell_type": "markdown",
      "source": [
        "Nested U-Net (U-Net++) Training"
      ],
      "metadata": {
        "id": "O-am3krIRygG"
      }
    },
    {
      "cell_type": "code",
      "source": [
        "def nested_unet_model(input_size=(256, 256, 3)):\n",
        "    inputs = layers.Input(input_size)\n",
        "\n",
        "    conv1 = layers.Conv2D(64, 3, activation='relu', padding='same')(inputs)\n",
        "    conv1 = layers.Conv2D(64, 3, activation='relu', padding='same')(conv1)\n",
        "    pool1 = layers.MaxPooling2D(pool_size=(2, 2))(conv1)\n",
        "\n",
        "    conv2 = layers.Conv2D(128, 3, activation='relu', padding='same')(pool1)\n",
        "    conv2 = layers.Conv2D(128, 3, activation='relu', padding='same')(conv2)\n",
        "    pool2 = layers.MaxPooling2D(pool_size=(2, 2))(conv2)\n",
        "\n",
        "    conv3 = layers.Conv2D(256, 3, activation='relu', padding='same')(pool2)\n",
        "    conv3 = layers.Conv2D(256, 3, activation='relu', padding='same')(conv3)\n",
        "    up2 = layers.Conv2DTranspose(128, 2, strides=(2, 2), padding='same')(conv3)\n",
        "    concat2 = layers.concatenate([conv2, up2])\n",
        "    conv4 = layers.Conv2D(128, 3, activation='relu', padding='same')(concat2)\n",
        "    conv4 = layers.Conv2D(128, 3, activation='relu', padding='same')(conv4)\n",
        "\n",
        "    up1 = layers.Conv2DTranspose(64, 2, strides=(2, 2), padding='same')(conv4)\n",
        "    concat1 = layers.concatenate([conv1, up1])\n",
        "    conv5 = layers.Conv2D(64, 3, activation='relu', padding='same')(concat1)\n",
        "    conv5 = layers.Conv2D(64, 3, activation='relu', padding='same')(conv5)\n",
        "\n",
        "    outputs = layers.Conv2D(1, 1, activation='sigmoid')(conv5)\n",
        "\n",
        "    model = models.Model(inputs=[inputs], outputs=[outputs])\n",
        "    model.compile(optimizer='adam', loss=dice_loss, metrics=[dice_coefficient])\n",
        "\n",
        "    return model\n",
        "nested_unet = nested_unet_model()\n",
        "nested_history = nested_unet.fit(X_train, y_train, epochs=15, batch_size=8, validation_data=(X_test, y_test))\n",
        "\n",
        "nested_unet.save_weights('nested_unet_weights.h5')\n",
        "\n",
        "nested_eval = nested_unet.evaluate(X_test, y_test)\n",
        "print(\"Nested U-Net DICE Score:\", nested_eval[1])\n"
      ],
      "metadata": {
        "id": "jdK4KygrRgxm"
      },
      "execution_count": null,
      "outputs": []
    },
    {
      "cell_type": "markdown",
      "source": [
        "Attention U-Net Training"
      ],
      "metadata": {
        "id": "kzs4RbKKR5K1"
      }
    },
    {
      "cell_type": "code",
      "source": [
        "def attention_unet_model(input_size=(256, 256, 3)):\n",
        "    # Implement the Attention U-Net architecture here\n",
        "    inputs = layers.Input(input_size)\n",
        "\n",
        "    conv1 = layers.Conv2D(64, 3, activation='relu', padding='same')(inputs)\n",
        "    conv1 = layers.Conv2D(64, 3, activation='relu', padding='same')(conv1)\n",
        "    pool1 = layers.MaxPooling2D(pool_size=(2, 2))(conv1)\n",
        "\n",
        "    conv2 = layers.Conv2D(128, 3, activation='relu', padding='same')(pool1)\n",
        "    conv2 = layers.Conv2D(128, 3, activation='relu', padding='same')(conv2)\n",
        "    pool2 = layers.MaxPooling2D(pool_size=(2, 2))(conv2)\n",
        "\n",
        "    conv3 = layers.Conv2D(256, 3, activation='relu', padding='same')(pool2)\n",
        "    conv3 = layers.Conv2D(256, 3, activation='relu', padding='same')(conv3)\n",
        "\n",
        "    # Add attention mechanism here\n",
        "    up2 = layers.Conv2DTranspose(128, 2, strides=(2, 2), padding='same')(conv3)\n",
        "    concat2 = layers.concatenate([conv2, up2])\n",
        "    conv4 = layers.Conv2D(128, 3, activation='relu', padding='same')(concat2)\n",
        "    conv4 = layers.Conv2D(128, 3, activation='relu', padding='same')(conv4)\n",
        "\n",
        "    up1 = layers.Conv2DTranspose(64, 2, strides=(2, 2), padding='same')(conv4)\n",
        "    concat1 = layers.concatenate([conv1, up1])\n",
        "    conv5 = layers.Conv2D(64, 3, activation='relu', padding='same')(concat1)\n",
        "    conv5 = layers.Conv2D(64, 3, activation='relu', padding='same')(conv5)\n",
        "\n",
        "    outputs = layers.Conv2D(1, 1, activation='sigmoid')(conv5)\n",
        "\n",
        "    model = models.Model(inputs=[inputs], outputs=[outputs])\n",
        "    model.compile(optimizer='adam', loss=dice_loss, metrics=[dice_coefficient])\n",
        "\n",
        "    return model\n",
        "\n",
        "# Train the Attention U-Net model\n",
        "attention_unet = attention_unet_model()\n",
        "attention_history = attention_unet.fit(X_train, y_train, epochs=15, batch_size=8, validation_data=(X_test, y_test))\n",
        "\n",
        "# Save the model weights\n",
        "attention_unet.save_weights('attention_unet_weights.h5')\n",
        "\n",
        "# Evaluate the model\n",
        "attention_eval = attention_unet.evaluate(X_test, y_test)\n",
        "print(\"Attention U-Net DICE Score:\", attention_eval[1])\n"
      ],
      "metadata": {
        "id": "VE_PGwIcR88T"
      },
      "execution_count": null,
      "outputs": []
    },
    {
      "cell_type": "markdown",
      "source": [
        "MODEL COMPARISON"
      ],
      "metadata": {
        "id": "ZkgBym3LTQIu"
      }
    },
    {
      "cell_type": "code",
      "source": [
        "print(\"Nested U-Net DICE Score:\", nested_eval[1])\n",
        "print(\"Attention U-Net DICE Score:\", attention_eval[1])\n",
        "\n",
        "if nested_eval[1] > attention_eval[1]:\n",
        "    print(\"Nested U-Net performs better.\")\n",
        "else:\n",
        "    print(\"Attention U-Net performs better.\")\n"
      ],
      "metadata": {
        "id": "LYKBHhckTOmR"
      },
      "execution_count": null,
      "outputs": []
    }
  ]
}