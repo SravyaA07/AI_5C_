{
  "nbformat": 4,
  "nbformat_minor": 0,
  "metadata": {
    "colab": {
      "provenance": []
    },
    "kernelspec": {
      "name": "python3",
      "display_name": "Python 3"
    },
    "language_info": {
      "name": "python"
    }
  },
  "cells": [
    {
      "cell_type": "code",
      "execution_count": null,
      "metadata": {
        "id": "ZQOR8XkfVdkW"
      },
      "outputs": [],
      "source": [
        "pip install fastapi uvicorn tensorflow opencv-python\n"
      ]
    },
    {
      "cell_type": "code",
      "source": [
        "from fastapi import FastAPI, File, UploadFile\n",
        "import uvicorn\n",
        "import numpy as np\n",
        "import cv2\n",
        "from tensorflow.keras.models import load_model\n",
        "from io import BytesIO\n",
        "from PIL import Image\n",
        "\n",
        "# Initialize FastAPI app\n",
        "app = FastAPI()\n",
        "\n",
        "# Load the best performing model (change the path to your trained model)\n",
        "model = load_model('nested_unet_weights.h5', custom_objects={'dice_coefficient': dice_coefficient})\n",
        "\n",
        "# Preprocess image\n",
        "def preprocess_image(image: Image.Image):\n",
        "    image = np.array(image)\n",
        "    image = cv2.resize(image, (256, 256))  # Resize to model input size\n",
        "    image = image / 255.0  # Normalize\n",
        "    image = np.expand_dims(image, axis=0)  # Add batch dimension\n",
        "    return image\n",
        "\n",
        "# Prediction route\n",
        "@app.post(\"/predict/\")\n",
        "async def predict(file: UploadFile = File(...)):\n",
        "    # Load the uploaded image\n",
        "    image = Image.open(BytesIO(await file.read()))\n",
        "\n",
        "    # Preprocess the image\n",
        "    image = preprocess_image(image)\n",
        "\n",
        "    # Predict using the model\n",
        "    prediction = model.predict(image)\n",
        "\n",
        "    # Convert prediction to binary mask\n",
        "    mask = (prediction > 0.5).astype(np.uint8)\n",
        "    mask = mask[0, :, :, 0]  # Remove batch dimension and channel dimension\n",
        "\n",
        "    # Resize mask back to original image size (optional, depending on the original input size)\n",
        "    mask = cv2.resize(mask, (image.shape[2], image.shape[1]))  # Assuming 256x256 input\n",
        "\n",
        "    # Convert mask to a format that can be returned\n",
        "    _, mask_png = cv2.imencode('.png', mask * 255)  # Convert binary mask to image format\n",
        "\n",
        "    return {\n",
        "        \"mask\": mask_png.tobytes()\n",
        "    }\n",
        "\n",
        "# Run FastAPI\n",
        "if __name__ == \"__main__\":\n",
        "    uvicorn.run(app, host=\"0.0.0.0\", port=8000)\n"
      ],
      "metadata": {
        "id": "K-UoKQjaVf57"
      },
      "execution_count": null,
      "outputs": []
    },
    {
      "cell_type": "code",
      "source": [
        "uvicorn app:app --reload\n"
      ],
      "metadata": {
        "id": "r_7bGbsYWAaF"
      },
      "execution_count": null,
      "outputs": []
    },
    {
      "cell_type": "code",
      "source": [
        "pip install streamlit requests\n"
      ],
      "metadata": {
        "id": "xFHa6PcWVqc7"
      },
      "execution_count": null,
      "outputs": []
    },
    {
      "cell_type": "code",
      "source": [
        "import streamlit as st\n",
        "import requests\n",
        "import numpy as np\n",
        "from PIL import Image\n",
        "from io import BytesIO\n",
        "import cv2\n",
        "\n",
        "# FastAPI URL (adjust this URL based on where FastAPI is running)\n",
        "FASTAPI_URL = \"http://localhost:8000/predict/\"\n",
        "\n",
        "# Streamlit App UI\n",
        "st.title(\"Brain MRI Metastasis Segmentation\")\n",
        "\n",
        "# Allow user to upload an MRI image\n",
        "uploaded_file = st.file_uploader(\"Upload a Brain MRI image\", type=[\"jpg\", \"jpeg\", \"png\", \"tiff\"])\n",
        "\n",
        "if uploaded_file is not None:\n",
        "    # Display the uploaded image\n",
        "    st.image(uploaded_file, caption=\"Uploaded MRI Image\", use_column_width=True)\n",
        "\n",
        "    # Convert the uploaded file to a PIL image\n",
        "    image = Image.open(uploaded_file)\n",
        "\n",
        "    # Button to trigger segmentation\n",
        "    if st.button(\"Segment Metastasis\"):\n",
        "        # Send the image to the FastAPI backend for segmentation\n",
        "        image_bytes = BytesIO()\n",
        "        image.save(image_bytes, format=\"PNG\")\n",
        "        files = {'file': image_bytes.getvalue()}\n",
        "\n",
        "        response = requests.post(FASTAPI_URL, files=files)\n",
        "\n",
        "        if response.status_code == 200:\n",
        "            # Get the mask from the response\n",
        "            mask = np.array(Image.open(BytesIO(response.content)))\n",
        "\n",
        "            # Display the mask\n",
        "            st.image(mask, caption=\"Segmented Metastasis Mask\", use_column_width=True)\n",
        "        else:\n",
        "            st.error(\"Error in processing the image. Please try again.\")\n"
      ],
      "metadata": {
        "id": "YG2U_wV0V2cF"
      },
      "execution_count": null,
      "outputs": []
    },
    {
      "cell_type": "code",
      "source": [
        "uvicorn app:app --reload\n"
      ],
      "metadata": {
        "id": "6bvpYFGTWEzZ"
      },
      "execution_count": null,
      "outputs": []
    },
    {
      "cell_type": "code",
      "source": [
        "streamlit run streamlit_app.py\n"
      ],
      "metadata": {
        "id": "5jGqWfifWNG9"
      },
      "execution_count": null,
      "outputs": []
    },
    {
      "cell_type": "code",
      "source": [],
      "metadata": {
        "id": "Kcjeu6MnWRHi"
      },
      "execution_count": null,
      "outputs": []
    }
  ]
}