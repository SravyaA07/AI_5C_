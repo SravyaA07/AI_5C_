{
  "nbformat": 4,
  "nbformat_minor": 0,
  "metadata": {
    "colab": {
      "provenance": []
    },
    "kernelspec": {
      "name": "python3",
      "display_name": "Python 3"
    },
    "language_info": {
      "name": "python"
    }
  },
  "cells": [
    {
      "cell_type": "code",
      "source": [
        "pip install opencv-python numpy tensorflow"
      ],
      "metadata": {
        "id": "VqN2Km10QfGy"
      },
      "execution_count": null,
      "outputs": []
    },
    {
      "cell_type": "code",
      "source": [
        "import os\n",
        "import cv2\n",
        "import numpy as np\n",
        "from sklearn.model_selection import train_test_split\n",
        "image_dir = 'path_to_images/'\n",
        "images = []\n",
        "masks = []\n",
        "for file_name in sorted(os.listdir(image_dir)):\n",
        "    if \"_mask\" in file_name:\n",
        "        mask_path = os.path.join(image_dir, file_name)\n",
        "        mask = cv2.imread(mask_path, cv2.IMREAD_GRAYSCALE)  # Load mask in grayscale\n",
        "        masks.append(mask)\n",
        "    else:\n",
        "        image_path = os.path.join(image_dir, file_name)\n",
        "        image = cv2.imread(image_path, cv2.IMREAD_COLOR)  # Load image in color\n",
        "        images.append(image)\n",
        "images = np.array(images)\n",
        "masks = np.array(masks)\n",
        "images = images / 255.0\n",
        "masks = masks / 255.0\n",
        "IMG_HEIGHT = 256\n",
        "IMG_WIDTH = 256\n",
        "\n",
        "images_resized = [cv2.resize(image, (IMG_WIDTH, IMG_HEIGHT)) for image in images]\n",
        "masks_resized = [cv2.resize(mask, (IMG_WIDTH, IMG_HEIGHT)) for mask in masks]\n",
        "\n",
        "images_resized = np.array(images_resized)\n",
        "masks_resized = np.array(masks_resized)\n",
        "\n",
        "X_train, X_test, y_train, y_test = train_test_split(images_resized, masks_resized, test_size=0.2, random_state=42)\n",
        "\n",
        "print(\"Training set:\", X_train.shape)\n",
        "print(\"Testing set:\", X_test.shape)"
      ],
      "metadata": {
        "id": "O15Rw4VGQblK"
      },
      "execution_count": null,
      "outputs": []
    }
  ]
}